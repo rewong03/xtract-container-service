{
 "cells": [
  {
   "cell_type": "code",
   "execution_count": null,
   "metadata": {},
   "outputs": [],
   "source": [
    "import requests\n",
    "import time\n",
    "from fair_research_login import NativeClient\n",
    "\n",
    "client = NativeClient(client_id='7414f0b4-7d05-4bb6-bb00-076fa3f17cf5')\n",
    "tokens = client.login(\n",
    "    requested_scopes=['urn:globus:auth:scope:transfer.api.globus.org:all',\n",
    "                      \"https://auth.globus.org/scopes/facd7ccc-c5f4-42aa-916b-a0e270e2c2a9/all\", \n",
    "                      'email', 'openid'],\n",
    "    no_local_server=True,\n",
    "    no_browser=True)\n",
    "\n",
    "transfer_token = tokens['transfer.api.globus.org']['access_token']\n",
    "funcx_token = tokens['funcx_service']['access_token']\n",
    "headers = {'Authorization': f\"Bearer {funcx_token}\",'Transfer': transfer_token, 'FuncX': f\"{funcx_token}\"}\n",
    "print(f\"Headers: {headers}\")"
   ]
  },
  {
   "cell_type": "code",
   "execution_count": null,
   "metadata": {},
   "outputs": [],
   "source": [
    "t0 = time.time()\n",
    "# Example for posting a file to the application\n",
    "url = \"http://127.0.0.1:5000/upload_def_file\"\n",
    "file_name = \"Dockerfile\"\n",
    "file_path = \"Dockerfile\"\n",
    "my_files = {\"file\": (file_name, open(file_path,\"rb\"))}\n",
    "response = requests.post(url, files=my_files, headers=headers)\n",
    "print(response.text)\n",
    "print(time.time() - t0)"
   ]
  },
  {
   "cell_type": "code",
   "execution_count": null,
   "metadata": {},
   "outputs": [],
   "source": [
    "t0 = time.time()\n",
    "# Example for building a container\n",
    "url = \"http://127.0.0.1:5000/build\"\n",
    "my_data = {\"container_id\": response.text,\n",
    "          \"to_format\": \"docker\", \"container_name\": \"my_docker_test\"}\n",
    "\n",
    "response = requests.post(url, json=my_data)\n",
    "print(response.text)\n",
    "print(time.time() - t0)"
   ]
  },
  {
   "cell_type": "code",
   "execution_count": null,
   "metadata": {},
   "outputs": [],
   "source": [
    "t0 = time.time()\n",
    "# Example for building a container\n",
    "url = \"http://127.0.0.1:5000/pull\"\n",
    "my_data = {\"build_id\": \"c40b918a-9384-466a-a880-07f2879932b4\"}\n",
    "response = requests.get(url, json=my_data)\n",
    "with open(\"my_test.tar\", 'wb') as f: \n",
    "    f.write(response.content)\n",
    "print(time.time() - t0)"
   ]
  },
  {
   "cell_type": "code",
   "execution_count": null,
   "metadata": {},
   "outputs": [],
   "source": [
    "t0 = time.time()\n",
    "# Example for building a container\n",
    "url = \"http://127.0.0.1:5000/build\"\n",
    "my_data = {\"container_id\": \"95144e72-f818-4aab-99a1-49c2ca7e2bd1\",\n",
    "          \"to_format\": \"docker\", \"container_name\": \"my_docker_test\"}\n",
    "\n",
    "response = requests.post(url, json=my_data)\n",
    "print(response.text)\n",
    "print(time.time() - t0)"
   ]
  },
  {
   "cell_type": "code",
   "execution_count": null,
   "metadata": {},
   "outputs": [],
   "source": []
  }
 ],
 "metadata": {
  "kernelspec": {
   "display_name": "Python 3",
   "language": "python",
   "name": "python3"
  },
  "language_info": {
   "codemirror_mode": {
    "name": "ipython",
    "version": 3
   },
   "file_extension": ".py",
   "mimetype": "text/x-python",
   "name": "python",
   "nbconvert_exporter": "python",
   "pygments_lexer": "ipython3",
   "version": "3.7.4"
  }
 },
 "nbformat": 4,
 "nbformat_minor": 2
}

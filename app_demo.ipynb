{
 "cells": [
  {
   "cell_type": "code",
   "execution_count": 12,
   "metadata": {},
   "outputs": [],
   "source": [
    "import requests\n",
    "import time"
   ]
  },
  {
   "cell_type": "code",
   "execution_count": 13,
   "metadata": {},
   "outputs": [
    {
     "name": "stdout",
     "output_type": "stream",
     "text": [
      "3c65f418-b596-4115-ad8a-3f6c6b0acd7e\n",
      "0.7232089042663574\n"
     ]
    }
   ],
   "source": [
    "t0 = time.time()\n",
    "# Example for posting a file to the application\n",
    "url = \"http://127.0.0.1:5000/upload_def_file\"\n",
    "file_name = \"Dockerfile\"\n",
    "file_path = \"Dockerfile\"\n",
    "my_files = {\"file\": (file_name, open(file_path,\"rb\"))}\n",
    "response = requests.post(url, files=my_files)\n",
    "print(response.text)\n",
    "print(time.time() - t0)"
   ]
  },
  {
   "cell_type": "code",
   "execution_count": 14,
   "metadata": {},
   "outputs": [
    {
     "name": "stdout",
     "output_type": "stream",
     "text": [
      "3fc86336-b34b-4037-8a7b-3e54c13b1040\n",
      "213.62782287597656\n"
     ]
    }
   ],
   "source": [
    "t0 = time.time()\n",
    "# Example for building a container\n",
    "url = \"http://127.0.0.1:5000/build\"\n",
    "my_data = {\"container_id\": response.text,\n",
    "          \"to_format\": \"docker\", \"container_name\": \"my_docker_test\"}\n",
    "\n",
    "response = requests.post(url, json=my_data)\n",
    "print(response.text)\n",
    "print(time.time() - t0)"
   ]
  },
  {
   "cell_type": "code",
   "execution_count": 15,
   "metadata": {},
   "outputs": [
    {
     "name": "stdout",
     "output_type": "stream",
     "text": [
      "965066752\n",
      "28.214515924453735\n"
     ]
    }
   ],
   "source": [
    "t0 = time.time()\n",
    "import os\n",
    "# Example of pulling down a container\n",
    "url = \"http://127.0.0.1:5000/pull\"\n",
    "my_data = {\"build_id\": response.text}\n",
    "response = requests.get(url, json=my_data)\n",
    "with open(\"my_container.tar\", 'wb') as f:\n",
    "    f.write(response.content)\n",
    "\n",
    "print(os.path.getsize(\"my_container.tar\"))\n",
    "print(time.time() - t0)"
   ]
  },
  {
   "cell_type": "code",
   "execution_count": null,
   "metadata": {},
   "outputs": [],
   "source": []
  }
 ],
 "metadata": {
  "kernelspec": {
   "display_name": "Python 3",
   "language": "python",
   "name": "python3"
  },
  "language_info": {
   "codemirror_mode": {
    "name": "ipython",
    "version": 3
   },
   "file_extension": ".py",
   "mimetype": "text/x-python",
   "name": "python",
   "nbconvert_exporter": "python",
   "pygments_lexer": "ipython3",
   "version": "3.7.4"
  }
 },
 "nbformat": 4,
 "nbformat_minor": 2
}

{
 "cells": [
  {
   "cell_type": "code",
   "execution_count": null,
   "metadata": {},
   "outputs": [],
   "source": [
    "import requests\n",
    "import time\n",
    "from fair_research_login import NativeClient\n",
    "from xcs import XtractConnection\n",
    "\n",
    "client = NativeClient(client_id='7414f0b4-7d05-4bb6-bb00-076fa3f17cf5')\n",
    "tokens = client.login(\n",
    "    requested_scopes=['urn:globus:auth:scope:transfer.api.globus.org:all',\n",
    "                      \"https://auth.globus.org/scopes/facd7ccc-c5f4-42aa-916b-a0e270e2c2a9/all\", \n",
    "                      'email', 'openid'],\n",
    "    no_local_server=True,\n",
    "    no_browser=True)\n",
    "\n",
    "transfer_token = tokens['transfer.api.globus.org']['access_token']\n",
    "funcx_token = tokens['funcx_service']['access_token']\n",
    "headers = {'Authorization': f\"Bearer {funcx_token}\",'Transfer': transfer_token, 'FuncX': f\"{funcx_token}\"}\n",
    "print(f\"Headers: {headers}\")"
   ]
  },
  {
   "cell_type": "code",
   "execution_count": null,
   "metadata": {},
   "outputs": [],
   "source": [
    "xconn = XtractConnection(funcx_token, \"http://127.0.0.1:5000\")"
   ]
  },
  {
   "cell_type": "code",
   "execution_count": null,
   "metadata": {},
   "outputs": [],
   "source": [
    "t0 = time.time()\n",
    "# Example for posting a file to the application\n",
    "file_name = \"Dockerfile\"\n",
    "file_path = \"Dockerfile\"\n",
    "definition_id = xconn.register_container(file_name, file_path)\n",
    "print(definition_id)\n",
    "print(\"Registered in {}\".format(time.time() - t0))"
   ]
  },
  {
   "cell_type": "code",
   "execution_count": null,
   "metadata": {},
   "outputs": [],
   "source": [
    "t0 = time.time()\n",
    "# Example for building a container\n",
    "build_id = xconn.build(definition_id, \"docker\", \"my_test\")\n",
    "print(build_id)\n",
    "print(\"Response received in {}\".format(time.time() - t0))"
   ]
  },
  {
   "cell_type": "code",
   "execution_count": null,
   "metadata": {},
   "outputs": [],
   "source": [
    "t0 = time.time()\n",
    "# Example for getting the status of a container\n",
    "status = xconn.get_status(build_id)\n",
    "print(status)\n",
    "print(\"Got status in {}\".format(time.time() - t0))"
   ]
  },
  {
   "cell_type": "code",
   "execution_count": null,
   "metadata": {},
   "outputs": [],
   "source": [
    "import os\n",
    "t0 = time.time()\n",
    "# Example for pulling a container\n",
    "container_path = os.path.join(os.path.abspath(\".\"), \"my_test.tar\")\n",
    "response = xconn.pull(build_id, container_path)\n",
    "\n",
    "if os.path.exists(container_path):\n",
    "    print(\"Successfully pulled container to {}\".format(container_path))\n",
    "else:\n",
    "    print(response)\n",
    "print(\"Pulled in {}\".format(time.time() - t0))"
   ]
  },
  {
   "cell_type": "code",
   "execution_count": null,
   "metadata": {},
   "outputs": [],
   "source": [
    "t0 = time.time()\n",
    "# Example for building a Docker container with a git repo\n",
    "git_repo = \"https://github.com/rewong03/xtract_file_service\"\n",
    "container_name = \"xfs\"\n",
    "build_id = xconn.repo2docker(container_name, git_repo=git_repo)\n",
    "print(build_id)\n",
    "print(\"Response received in {}\".format(time.time() - t0))"
   ]
  },
  {
   "cell_type": "code",
   "execution_count": null,
   "metadata": {},
   "outputs": [],
   "source": [
    "t0 = time.time()\n",
    "# Example for building a Docker container with .tar or .zip file\n",
    "container_name = \"xtract-file-service\"\n",
    "file_path = \"xfs.zip\"\n",
    "build_id = xconn.repo2docker(container_name, file_path=file_path)\n",
    "print(build_id)\n",
    "print(\"Response received in {}\".format(time.time() - t0))"
   ]
  },
  {
   "cell_type": "code",
   "execution_count": null,
   "metadata": {},
   "outputs": [],
   "source": []
  }
 ],
 "metadata": {
  "kernelspec": {
   "display_name": "Python 3",
   "language": "python",
   "name": "python3"
  },
  "language_info": {
   "codemirror_mode": {
    "name": "ipython",
    "version": 3
   },
   "file_extension": ".py",
   "mimetype": "text/x-python",
   "name": "python",
   "nbconvert_exporter": "python",
   "pygments_lexer": "ipython3",
   "version": "3.7.4"
  }
 },
 "nbformat": 4,
 "nbformat_minor": 2
}

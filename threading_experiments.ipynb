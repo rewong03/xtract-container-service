{
 "cells": [
  {
   "cell_type": "code",
   "execution_count": null,
   "metadata": {},
   "outputs": [],
   "source": [
    "import requests\n",
    "import time\n",
    "from fair_research_login import NativeClient\n",
    "\n",
    "client = NativeClient(client_id='7414f0b4-7d05-4bb6-bb00-076fa3f17cf5')\n",
    "tokens = client.login(\n",
    "    requested_scopes=['urn:globus:auth:scope:transfer.api.globus.org:all',\n",
    "                      \"https://auth.globus.org/scopes/facd7ccc-c5f4-42aa-916b-a0e270e2c2a9/all\", \n",
    "                      'email', 'openid'],\n",
    "    no_local_server=True,\n",
    "    no_browser=True)\n",
    "\n",
    "transfer_token = tokens['transfer.api.globus.org']['access_token']\n",
    "funcx_token = tokens['funcx_service']['access_token']\n",
    "headers = {'Authorization': f\"Bearer {funcx_token}\",'Transfer': transfer_token, 'FuncX': f\"{funcx_token}\"}\n",
    "print(f\"Headers: {headers}\")"
   ]
  },
  {
   "cell_type": "code",
   "execution_count": null,
   "metadata": {},
   "outputs": [],
   "source": [
    "from xcs import XtractConnection\n",
    "xconn = XtractConnection(funcx_token,\"http://127.0.0.1:5000/\")"
   ]
  },
  {
   "cell_type": "code",
   "execution_count": null,
   "metadata": {},
   "outputs": [],
   "source": [
    "import matplotlib.pyplot as plt\n",
    "import csv"
   ]
  },
  {
   "cell_type": "markdown",
   "metadata": {},
   "source": [
    "### Plotting Threads vs. Time for Sigularity and Docker\n",
    "For this experiment I will measure the time that it takes for XCS to build a fixed number of containers for various numbers of threads. I will then scale up the number of containers. The upload speed will be capped in order to prevent too much variance for Docker."
   ]
  },
  {
   "cell_type": "code",
   "execution_count": null,
   "metadata": {},
   "outputs": [],
   "source": [
    "import time\n",
    "from IPython.display import clear_output\n",
    "results = []\n",
    "\n",
    "for containers in range(10, 55, 5):\n",
    "    for threads in range(5, 55, 5):\n",
    "        print(f\"Containers: {containers}\")\n",
    "        print(f\"Threads: {threads}\")\n",
    "        print(\"Starting Docker\")\n",
    "        requests.post(\"http://149.165.168.132/change_thread\", json={\"threads\": threads})\n",
    "        definition_ids = []\n",
    "        for i in range(containers):\n",
    "            file_name = \"Dockerfile\"\n",
    "            file_path = \"./examples/matio_dockerfile\"\n",
    "            definition_id = xconn.register_container(file_name, file_path)\n",
    "            definition_ids.append(definition_id)\n",
    "        \n",
    "        build_ids = []\n",
    "        for idx, definition_id in enumerate(definition_ids):\n",
    "            build_id = xconn.build(definition_id, \"docker\", \"my_test_{}\".format(idx))\n",
    "            build_ids.append(build_id)\n",
    "            print(build_id)\n",
    "            \n",
    "        keep_printing = True\n",
    "        start_time = time.time()\n",
    "        while keep_printing:\n",
    "            clear_output(True)\n",
    "            is_done = []\n",
    "            for idx, build_id in enumerate(build_ids):\n",
    "                status = xconn.get_status(build_id)\n",
    "                print(status)\n",
    "                if status[\"build_status\"] == \"success\":\n",
    "                    is_done.append(True)\n",
    "                else:\n",
    "                    is_done.append(False)\n",
    "                print(time.time())\n",
    "            if all(is_done):\n",
    "                keep_printing = False\n",
    "            time.sleep(1)\n",
    "        \n",
    "        results.append([\"docker\", threads, containers, time.time() - start_time])\n",
    "        print(\"Starting Singularity\")\n",
    "        \n",
    "        definition_ids = []\n",
    "        for i in range(containers):\n",
    "            file_name = \"my_test.def\"\n",
    "            file_path = \"./examples/my_example.txt\"\n",
    "            definition_id = xconn.register_container(file_name, file_path)\n",
    "            definition_ids.append(definition_id)\n",
    "        \n",
    "        build_ids = []\n",
    "        for idx, definition_id in enumerate(definition_ids):\n",
    "            build_id = xconn.build(definition_id, \"singularity\", \"my_test_{}.sif\".format(idx))\n",
    "            build_ids.append(build_id)\n",
    "            print(build_id)\n",
    "            \n",
    "        keep_printing = True\n",
    "        start_time = time.time()\n",
    "        while keep_printing:\n",
    "            clear_output(True)\n",
    "            is_done = []\n",
    "            for idx, build_id in enumerate(build_ids):\n",
    "                status = xconn.get_status(build_id)\n",
    "                print(status)\n",
    "                if status[\"build_status\"] == \"success\":\n",
    "                    is_done.append(True)\n",
    "                else:\n",
    "                    is_done.append(False)\n",
    "                print(time.time())\n",
    "            if all(is_done):\n",
    "                keep_printing = False\n",
    "            time.sleep(1)\n",
    "        \n",
    "        results.append([\"singularity\", threads, containers, time.time() - start_time])"
   ]
  },
  {
   "cell_type": "code",
   "execution_count": null,
   "metadata": {},
   "outputs": [],
   "source": [
    "with open('thread_time_results.csv', mode='w') as f:\n",
    "    csv_writer = csv.writer(f, delimiter=',', quotechar='\"', quoting=csv.QUOTE_MINIMAL)\n",
    "\n",
    "    csv_writer.writerow(['type', 'threads', 'containers', 'time'])\n",
    "    for line in results:\n",
    "        csv_writer.writerow(line)"
   ]
  },
  {
   "cell_type": "code",
   "execution_count": null,
   "metadata": {},
   "outputs": [],
   "source": [
    "definition_ids = []\n",
    "\n",
    "for i in range(1):\n",
    "    file_name = \"Dockerfile\"\n",
    "    file_path = \"./examples/matio_dockerfile\"\n",
    "    definition_id = xconn.register_container(file_name, file_path)\n",
    "    definition_ids.append(definition_id)\n",
    "    print(definition_id)"
   ]
  },
  {
   "cell_type": "code",
   "execution_count": null,
   "metadata": {},
   "outputs": [],
   "source": [
    "build_ids = []\n",
    "\n",
    "for idx, definition_id in enumerate(definition_ids):\n",
    "    build_id = xconn.build(definition_id, \"docker\", \"my_test_{}\".format(idx))\n",
    "    build_ids.append(build_id)\n",
    "    print(build_id)\n",
    "\n",
    "\n",
    "print(build_ids)"
   ]
  },
  {
   "cell_type": "code",
   "execution_count": null,
   "metadata": {
    "scrolled": false
   },
   "outputs": [],
   "source": [
    "keep_printing = True\n",
    "import time\n",
    "from IPython.display import clear_output\n",
    "while keep_printing:\n",
    "    clear_output(True)\n",
    "    is_done = []\n",
    "    for idx, build_id in enumerate(build_ids):\n",
    "        status = xconn.get_status(build_id)\n",
    "        print(status)\n",
    "        if status[\"build_status\"] in [\"success\", \"failed\"]:\n",
    "            is_done.append(True)\n",
    "        else:\n",
    "            is_done.append(False)\n",
    "        print(time.time())\n",
    "    if all(is_done):\n",
    "        keep_printing = False\n",
    "    time.sleep(5)"
   ]
  },
  {
   "cell_type": "code",
   "execution_count": null,
   "metadata": {},
   "outputs": [],
   "source": [
    "import os\n",
    "t0 = time.time()\n",
    "# Example for pulling a container\n",
    "for build_id in build_ids:\n",
    "    container_path = os.path.join(os.path.abspath(\".\"), \"my_test.tar\")\n",
    "    response = xconn.pull(build_id, container_path)\n",
    "\n",
    "    if os.path.exists(container_path):\n",
    "        print(\"Successfully pulled container to {}\".format(container_path))\n",
    "    else:\n",
    "        print(response)\n",
    "    print(\"Pulled in {}\".format(time.time() - t0))"
   ]
  },
  {
   "cell_type": "code",
   "execution_count": null,
   "metadata": {},
   "outputs": [],
   "source": [
    "t0 = time.time()\n",
    "# Example for building a Docker container with a git repo\n",
    "git_repo = \"https://github.com/xtracthub/xtract-matio\"\n",
    "container_name = \"xfs\"\n",
    "build_id = xconn.repo2docker(container_name, git_repo=git_repo)\n",
    "print(build_id)\n",
    "print(\"Response received in {}\".format(time.time() - t0))"
   ]
  },
  {
   "cell_type": "code",
   "execution_count": null,
   "metadata": {},
   "outputs": [],
   "source": [
    "t0 = time.time()\n",
    "# Example for getting the status of a container\n",
    "status = xconn.get_status(build_id)\n",
    "print(status)\n",
    "print(\"Got status in {}\".format(time.time() - t0))"
   ]
  },
  {
   "cell_type": "code",
   "execution_count": null,
   "metadata": {},
   "outputs": [],
   "source": [
    "build_ids = ['26bda2ab-1bd1-4bb1-be04-20f4e243f47b']"
   ]
  },
  {
   "cell_type": "code",
   "execution_count": null,
   "metadata": {},
   "outputs": [],
   "source": []
  }
 ],
 "metadata": {
  "kernelspec": {
   "display_name": "Python 3",
   "language": "python",
   "name": "python3"
  },
  "language_info": {
   "codemirror_mode": {
    "name": "ipython",
    "version": 3
   },
   "file_extension": ".py",
   "mimetype": "text/x-python",
   "name": "python",
   "nbconvert_exporter": "python",
   "pygments_lexer": "ipython3",
   "version": "3.7.4"
  }
 },
 "nbformat": 4,
 "nbformat_minor": 2
}
